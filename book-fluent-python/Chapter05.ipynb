{
  "nbformat": 4,
  "nbformat_minor": 0,
  "metadata": {
    "colab": {
      "provenance": [],
      "toc_visible": true
    },
    "kernelspec": {
      "name": "python3",
      "display_name": "Python 3"
    },
    "language_info": {
      "name": "python"
    }
  },
  "cells": [
    {
      "cell_type": "markdown",
      "source": [
        "## Data Class Builders\n",
        "\n",
        "Classic Named Tuples"
      ],
      "metadata": {
        "id": "-bKwZUkQwq5V"
      }
    },
    {
      "cell_type": "code",
      "execution_count": 8,
      "metadata": {
        "id": "6u5dwZupvouT"
      },
      "outputs": [],
      "source": [
        "class Coordinate:\n",
        "  def __init__(self, lat, lon):\n",
        "    self.lat = lat\n",
        "    self.lon = lon"
      ]
    },
    {
      "cell_type": "code",
      "source": [
        "moscow = Coordinate(55.76, 37.62)\n",
        "location = Coordinate(55.76, 37.62)\n",
        "location == moscow, (location.lat, location.lon) == (moscow.lat, moscow.lon)"
      ],
      "metadata": {
        "colab": {
          "base_uri": "https://localhost:8080/"
        },
        "id": "csg5NN-pxsbr",
        "outputId": "d82460d3-221c-47f2-a4d3-298f9f775d20"
      },
      "execution_count": 10,
      "outputs": [
        {
          "output_type": "execute_result",
          "data": {
            "text/plain": [
              "(False, True)"
            ]
          },
          "metadata": {},
          "execution_count": 10
        }
      ]
    },
    {
      "cell_type": "code",
      "source": [
        "from collections import namedtuple\n",
        "\n",
        "Coordinate = namedtuple('Coordinate', ['lat', 'lon'])\n",
        "moscow = Coordinate(55.76, 37.62)\n",
        "location = Coordinate(55.76, 37.62)\n",
        "\n",
        "issubclass(Coordinate, tuple), location == moscow, (location.lat, location.lon) == (moscow.lat, moscow.lon)"
      ],
      "metadata": {
        "colab": {
          "base_uri": "https://localhost:8080/"
        },
        "id": "CCAAWa71xs9A",
        "outputId": "404cacf8-8218-4dd4-8d49-ef1b2044a032"
      },
      "execution_count": 12,
      "outputs": [
        {
          "output_type": "execute_result",
          "data": {
            "text/plain": [
              "(True, True, True)"
            ]
          },
          "metadata": {},
          "execution_count": 12
        }
      ]
    },
    {
      "cell_type": "markdown",
      "source": [
        "命名元组"
      ],
      "metadata": {
        "id": "Xb8mIHfD0O36"
      }
    },
    {
      "cell_type": "code",
      "source": [
        "import typing\n",
        "\n",
        "Coordinate = typing.NamedTuple('Coordinate', lat = float, lon = float)"
      ],
      "metadata": {
        "id": "dsSNSYw8z8kY"
      },
      "execution_count": 15,
      "outputs": []
    },
    {
      "cell_type": "markdown",
      "source": [
        "按照 PEP 526 变量注释的语法进行编写"
      ],
      "metadata": {
        "id": "rL9r95xl0xJ8"
      }
    },
    {
      "cell_type": "code",
      "source": [
        "from typing import NamedTuple\n",
        "\n",
        "class Coordinate(NamedTuple):\n",
        "  lat: float\n",
        "  lon: float\n",
        "\n",
        "  def __str__(self):\n",
        "    ns = 'N' if self.lat >= 0 else 'S'\n",
        "    we = 'E' if self.lon >= 0 else 'W'\n",
        "    return f'{abs(self.lat):.1f}°{ns}, {abs(self.lon):.1f}°{we}'"
      ],
      "metadata": {
        "id": "NvhSD1QW01lP"
      },
      "execution_count": 16,
      "outputs": []
    },
    {
      "cell_type": "code",
      "source": [
        "issubclass(Coordinate, typing.NamedTuple)"
      ],
      "metadata": {
        "colab": {
          "base_uri": "https://localhost:8080/",
          "height": 144
        },
        "id": "51wOPPrH1UC_",
        "outputId": "8dfacf55-cdcc-4c24-c926-6713f43b80b3"
      },
      "execution_count": 17,
      "outputs": [
        {
          "output_type": "error",
          "ename": "TypeError",
          "evalue": "issubclass() arg 2 must be a class, a tuple of classes, or a union",
          "traceback": [
            "\u001b[0;31m---------------------------------------------------------------------------\u001b[0m",
            "\u001b[0;31mTypeError\u001b[0m                                 Traceback (most recent call last)",
            "\u001b[0;32m<ipython-input-17-c24c741cc893>\u001b[0m in \u001b[0;36m<cell line: 1>\u001b[0;34m()\u001b[0m\n\u001b[0;32m----> 1\u001b[0;31m \u001b[0missubclass\u001b[0m\u001b[0;34m(\u001b[0m\u001b[0mCoordinate\u001b[0m\u001b[0;34m,\u001b[0m \u001b[0mtyping\u001b[0m\u001b[0;34m.\u001b[0m\u001b[0mNamedTuple\u001b[0m\u001b[0;34m)\u001b[0m\u001b[0;34m\u001b[0m\u001b[0;34m\u001b[0m\u001b[0m\n\u001b[0m",
            "\u001b[0;31mTypeError\u001b[0m: issubclass() arg 2 must be a class, a tuple of classes, or a union"
          ]
        }
      ]
    },
    {
      "cell_type": "code",
      "source": [
        "issubclass(Coordinate, tuple)"
      ],
      "metadata": {
        "colab": {
          "base_uri": "https://localhost:8080/"
        },
        "id": "YFgMTpvu1tyg",
        "outputId": "5275dad8-ede4-4836-b2dd-d08905fcb86a"
      },
      "execution_count": 18,
      "outputs": [
        {
          "output_type": "execute_result",
          "data": {
            "text/plain": [
              "True"
            ]
          },
          "metadata": {},
          "execution_count": 18
        }
      ]
    },
    {
      "cell_type": "markdown",
      "source": [
        "对比下使用 dataclass 装饰器编写的等效的 Coordinate 类"
      ],
      "metadata": {
        "id": "ZcL_G9qL17zW"
      }
    },
    {
      "cell_type": "code",
      "source": [
        "from dataclasses import dataclass\n",
        "\n",
        "@dataclass\n",
        "class Coordinate:\n",
        "  lat: float\n",
        "  lon: float\n",
        "\n",
        "  def __str__(self):\n",
        "    ns = 'N' if self.lat >= 0 else 'S'\n",
        "    we = 'E' if self.lon >= 0 else 'W'\n",
        "    return f'{abs(self.lat):.1f}°{ns}, {abs(self.lon):.1f}°{we}'\n"
      ],
      "metadata": {
        "id": "FTadEt1I2Dcl"
      },
      "execution_count": null,
      "outputs": []
    },
    {
      "cell_type": "code",
      "source": [
        "# Example 5-4\n",
        "\n",
        "from collections import namedtuple\n",
        "\n",
        "City = namedtuple('City', 'name country population coordinates')\n",
        "tokyo = City('Tokyo', 'JP', 36.933, (35.689722, 139.691667))\n",
        "tokyo"
      ],
      "metadata": {
        "colab": {
          "base_uri": "https://localhost:8080/"
        },
        "id": "2FAVd5Kt4bJV",
        "outputId": "2b3d5eb7-ef5c-483a-85f8-8e65613618ae"
      },
      "execution_count": 19,
      "outputs": [
        {
          "output_type": "execute_result",
          "data": {
            "text/plain": [
              "City(name='Tokyo', country='JP', population=36.933, coordinates=(35.689722, 139.691667))"
            ]
          },
          "metadata": {},
          "execution_count": 19
        }
      ]
    },
    {
      "cell_type": "code",
      "source": [
        "tokyo.population"
      ],
      "metadata": {
        "colab": {
          "base_uri": "https://localhost:8080/"
        },
        "id": "CgCRCck94xvp",
        "outputId": "4e291016-aab1-4c63-d751-80d8609ebc75"
      },
      "execution_count": 20,
      "outputs": [
        {
          "output_type": "execute_result",
          "data": {
            "text/plain": [
              "36.933"
            ]
          },
          "metadata": {},
          "execution_count": 20
        }
      ]
    },
    {
      "cell_type": "code",
      "source": [
        "tokyo[1]"
      ],
      "metadata": {
        "colab": {
          "base_uri": "https://localhost:8080/",
          "height": 35
        },
        "id": "8QokEG8I42_V",
        "outputId": "95c5277b-e93d-4c39-f832-dae0cff2f4ac"
      },
      "execution_count": 22,
      "outputs": [
        {
          "output_type": "execute_result",
          "data": {
            "text/plain": [
              "'JP'"
            ],
            "application/vnd.google.colaboratory.intrinsic+json": {
              "type": "string"
            }
          },
          "metadata": {},
          "execution_count": 22
        }
      ]
    },
    {
      "cell_type": "markdown",
      "source": [
        "命名元组除了从元组中继承的属性和方法外，还提供了几个属性和方法。示例 5-5 展示了最有用的：_ fields 类属性、类方法 _ make（iterable） 和 _ asdict（） 实例方法。"
      ],
      "metadata": {
        "id": "ltmFCJVs5YqZ"
      }
    },
    {
      "cell_type": "code",
      "source": [
        "City._fields"
      ],
      "metadata": {
        "colab": {
          "base_uri": "https://localhost:8080/"
        },
        "id": "xAqXUWlU5XeW",
        "outputId": "a4a9f6e1-6885-4caf-a734-ec533bc97986"
      },
      "execution_count": 23,
      "outputs": [
        {
          "output_type": "execute_result",
          "data": {
            "text/plain": [
              "('name', 'country', 'population', 'coordinates')"
            ]
          },
          "metadata": {},
          "execution_count": 23
        }
      ]
    },
    {
      "cell_type": "code",
      "source": [
        "Coordinate = namedtuple('Coordinate', 'lat lon')\n",
        "\n",
        "delhi_data = ('Dehi NCR', 'IN', 21.935, Coordinate(28.613889, 77.208889))\n",
        "delhi = City._make(delhi_data)\n",
        "delhi._asdict()"
      ],
      "metadata": {
        "colab": {
          "base_uri": "https://localhost:8080/"
        },
        "id": "xkP6w6xv5hjU",
        "outputId": "308e6926-41c5-4a3a-e70c-d62ee2f5b56d"
      },
      "execution_count": 24,
      "outputs": [
        {
          "output_type": "execute_result",
          "data": {
            "text/plain": [
              "{'name': 'Dehi NCR',\n",
              " 'country': 'IN',\n",
              " 'population': 21.935,\n",
              " 'coordinates': Coordinate(lat=28.613889, lon=77.208889)}"
            ]
          },
          "metadata": {},
          "execution_count": 24
        }
      ]
    },
    {
      "cell_type": "code",
      "source": [
        "import json\n",
        "\n",
        "json.dumps(delhi._asdict())"
      ],
      "metadata": {
        "colab": {
          "base_uri": "https://localhost:8080/",
          "height": 35
        },
        "id": "4yEy--D257Fl",
        "outputId": "310da3e0-a9be-4772-cc6a-9ce7bfb1a6bf"
      },
      "execution_count": 25,
      "outputs": [
        {
          "output_type": "execute_result",
          "data": {
            "text/plain": [
              "'{\"name\": \"Dehi NCR\", \"country\": \"IN\", \"population\": 21.935, \"coordinates\": [28.613889, 77.208889]}'"
            ],
            "application/vnd.google.colaboratory.intrinsic+json": {
              "type": "string"
            }
          },
          "metadata": {},
          "execution_count": 25
        }
      ]
    },
    {
      "cell_type": "markdown",
      "source": [
        "自 Python 3.7 以来，namedtuple 接受默认关键字参数，为类的每个右端字段的 N 个默认值提供迭代器。"
      ],
      "metadata": {
        "id": "coE9ALAv7FhF"
      }
    },
    {
      "cell_type": "code",
      "source": [
        "Coordinate = namedtuple('Coordinate', 'lat lon reference', defaults=['WGS84'])\n",
        "Coordinate(15.0, -32.0)"
      ],
      "metadata": {
        "colab": {
          "base_uri": "https://localhost:8080/"
        },
        "id": "j-cYYMvj7KNa",
        "outputId": "308c60b6-d349-400a-d04f-badcd6c9564e"
      },
      "execution_count": 26,
      "outputs": [
        {
          "output_type": "execute_result",
          "data": {
            "text/plain": [
              "Coordinate(lat=15.0, lon=-32.0, reference='WGS84')"
            ]
          },
          "metadata": {},
          "execution_count": 26
        }
      ]
    },
    {
      "cell_type": "code",
      "source": [
        "Coordinate._field_defaults"
      ],
      "metadata": {
        "colab": {
          "base_uri": "https://localhost:8080/"
        },
        "id": "te4TSwil7gLa",
        "outputId": "1c9fa906-2d66-4a0e-80ea-1461d5b2dccd"
      },
      "execution_count": 27,
      "outputs": [
        {
          "output_type": "execute_result",
          "data": {
            "text/plain": [
              "{'reference': 'WGS84'}"
            ]
          },
          "metadata": {},
          "execution_count": 27
        }
      ]
    },
    {
      "cell_type": "markdown",
      "source": [
        "type hint\n",
        "To see the effect of type hints, you must run one of those tools on your code—like a linter. For instance, here is what Mypy has to say about the previous example:"
      ],
      "metadata": {
        "id": "DsrQ_jAS8b6g"
      }
    },
    {
      "cell_type": "code",
      "source": [
        "class Coordinate(typing.NamedTuple):\n",
        "  lat: float\n",
        "  lon: float\n",
        "\n",
        "trash = Coordinate('Ni!', None)\n",
        "print(trash)"
      ],
      "metadata": {
        "colab": {
          "base_uri": "https://localhost:8080/"
        },
        "id": "xKB_FYH08sSN",
        "outputId": "d54a650d-17c0-4a74-bcdc-c7cfeeac2a45"
      },
      "execution_count": 28,
      "outputs": [
        {
          "output_type": "stream",
          "name": "stdout",
          "text": [
            "Coordinate(lat='Ni!', lon=None)\n"
          ]
        }
      ]
    }
  ]
}